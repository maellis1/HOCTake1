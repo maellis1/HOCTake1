{
 "cells": [
  {
   "cell_type": "code",
   "execution_count": 9,
   "metadata": {},
   "outputs": [],
   "source": [
    "import json\n",
    "import requests\n",
    "import pandas"
   ]
  },
  {
   "cell_type": "markdown",
   "metadata": {},
   "source": [
    "Just like we did in the previous assignments, we're going to access the API by using its URL. This time, we've added parameters at the end of the URL which specify that the only information we want from the database is the name of each computer.\n",
    "\n",
    "Navigate to this link (https://csgenome.org/docs/api/) which will show you information about the API. Under the section  labelled \"Top 500 Endpoint\", you can see that there are three parameters (page, limit, columns) and examples about each of them."
   ]
  },
  {
   "cell_type": "code",
   "execution_count": 19,
   "metadata": {},
   "outputs": [],
   "source": [
    "url = 'https://csgenome.org/api/benchmarks/top500?page=1&limit=25000&columns=computer'\n",
    "data = requests.get(url)\n",
    "thisDict = data.json()[\"data\"]"
   ]
  },
  {
   "cell_type": "markdown",
   "metadata": {},
   "source": [
    "Now that we have only information about the list of computers, let's explore what we can do to investigate that data. \"If statements\" are a common part of programming that allows us to check if a condition is met or not. If statements can also be used to add distinct commands for items that meet each condition. Check out this tutorial (https://www.w3schools.com/python/python_conditions.asp) for some information about the syntax of if statements.\n",
    "\n",
    "Notice that in the examples below, there are some other new terms, including \"in\", \"is\", and \"type\" Do some quick research to find out what these words mean in Python, but you'll probably find that you can guess correctly because the lines of code can often read like a regular sentence."
   ]
  },
  {
   "cell_type": "code",
   "execution_count": 20,
   "metadata": {},
   "outputs": [
    {
     "name": "stdout",
     "output_type": "stream",
     "text": [
      "True!\n",
      "Word is not in the sentence.\n",
      "It is not a dictionary.\n"
     ]
    }
   ],
   "source": [
    "if 3+2 > 4:\n",
    "    print(\"True!\")\n",
    "    \n",
    "if \"word\" in \"Welcome to History of Computing\":\n",
    "    print(\"Word is in the sentence.\")\n",
    "else:\n",
    "    print(\"Word is not in the sentence.\")\n",
    "\n",
    "if type(thisDict) is dict:\n",
    "    print(\"It is a dictionary.\")\n",
    "else:\n",
    "    print(\"It is not a dictionary.\")    "
   ]
  },
  {
   "cell_type": "markdown",
   "metadata": {},
   "source": [
    "Loops are another crucial part of programming that will allow us to do a process repeatedly. \"For\" loops are one type that allow us to run the same process a specific amount of times. \"While\" loops instead run a process until a condition is met. Here's a brief intro to the syntax of loops in Python: https://www.w3schools.com/python/python_for_loops.asp."
   ]
  },
  {
   "cell_type": "code",
   "execution_count": 21,
   "metadata": {},
   "outputs": [
    {
     "name": "stdout",
     "output_type": "stream",
     "text": [
      "FIRST LOOP:\n",
      "1\n",
      "2\n",
      "3\n",
      "4\n",
      "5\n",
      "SECOND LOOP:\n",
      "2\n",
      "4\n",
      "6\n",
      "8\n",
      "10\n",
      "THIRD LOOP:\n",
      "2\n",
      "8\n",
      "14\n"
     ]
    }
   ],
   "source": [
    "sampleList1 = list()\n",
    "sampleList2 = list()\n",
    "\n",
    "print(\"FIRST LOOP:\")\n",
    "for x in range(5):\n",
    "    sampleList1.append(x+1)\n",
    "    print(sampleList1[x])\n",
    "\n",
    "print(\"SECOND LOOP:\")\n",
    "for item in sampleList1:\n",
    "    item = item*2\n",
    "    print(item)\n",
    "    \n",
    "print(\"THIRD LOOP:\")\n",
    "x = 2\n",
    "print(x)\n",
    "while x < 10:\n",
    "    x = x + 6\n",
    "    print(x)   "
   ]
  },
  {
   "cell_type": "markdown",
   "metadata": {},
   "source": [
    "Now let's see what we can do using loops and if statements together."
   ]
  },
  {
   "cell_type": "code",
   "execution_count": 37,
   "metadata": {},
   "outputs": [
    {
     "name": "stdout",
     "output_type": "stream",
     "text": [
      "The number of yes's is 6574\n",
      "The number of no's is 1461\n"
     ]
    }
   ],
   "source": [
    "yesCount = 0\n",
    "noCount = 0\n",
    "for item in thisDict:\n",
    "    item = (item[\"computer\"])\n",
    "    if len(item) > 10:\n",
    "        yesCount+=1\n",
    "    else:\n",
    "        noCount+=1\n",
    "print(\"The number of yes's is\", yesCount)\n",
    "print(\"The number of no's is\", noCount)"
   ]
  }
 ],
 "metadata": {
  "kernelspec": {
   "display_name": "Python 3",
   "language": "python",
   "name": "python3"
  },
  "language_info": {
   "codemirror_mode": {
    "name": "ipython",
    "version": 3
   },
   "file_extension": ".py",
   "mimetype": "text/x-python",
   "name": "python",
   "nbconvert_exporter": "python",
   "pygments_lexer": "ipython3",
   "version": "3.7.6"
  }
 },
 "nbformat": 4,
 "nbformat_minor": 4
}
